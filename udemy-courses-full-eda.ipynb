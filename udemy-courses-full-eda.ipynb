{
 "cells": [
  {
   "cell_type": "code",
   "execution_count": 1,
   "id": "0e9e4c2b",
   "metadata": {
    "_cell_guid": "b1076dfc-b9ad-4769-8c92-a6c4dae69d19",
    "_uuid": "8f2839f25d086af736a60e9eeb907d3b93b6e0e5",
    "execution": {
     "iopub.execute_input": "2022-07-28T13:00:18.956331Z",
     "iopub.status.busy": "2022-07-28T13:00:18.955383Z",
     "iopub.status.idle": "2022-07-28T13:00:18.978897Z",
     "shell.execute_reply": "2022-07-28T13:00:18.977537Z"
    },
    "papermill": {
     "duration": 0.039434,
     "end_time": "2022-07-28T13:00:18.981851",
     "exception": false,
     "start_time": "2022-07-28T13:00:18.942417",
     "status": "completed"
    },
    "tags": []
   },
   "outputs": [
    {
     "name": "stdout",
     "output_type": "stream",
     "text": [
      "/kaggle/input/udemy-courses/udemy_courses.csv\n"
     ]
    }
   ],
   "source": [
    "# This Python 3 environment comes with many helpful analytics libraries installed\n",
    "# It is defined by the kaggle/python Docker image: https://github.com/kaggle/docker-python\n",
    "# For example, here's several helpful packages to load\n",
    "\n",
    "import numpy as np # linear algebra\n",
    "import pandas as pd # data processing, CSV file I/O (e.g. pd.read_csv)\n",
    "\n",
    "# Input data files are available in the read-only \"../input/\" directory\n",
    "# For example, running this (by clicking run or pressing Shift+Enter) will list all files under the input directory\n",
    "\n",
    "import os\n",
    "for dirname, _, filenames in os.walk('/kaggle/input'):\n",
    "    for filename in filenames:\n",
    "        print(os.path.join(dirname, filename))\n",
    "\n",
    "# You can write up to 20GB to the current directory (/kaggle/working/) that gets preserved as output when you create a version using \"Save & Run All\" \n",
    "# You can also write temporary files to /kaggle/temp/, but they won't be saved outside of the current session"
   ]
  },
  {
   "cell_type": "code",
   "execution_count": 2,
   "id": "757efaf9",
   "metadata": {
    "execution": {
     "iopub.execute_input": "2022-07-28T13:00:19.001827Z",
     "iopub.status.busy": "2022-07-28T13:00:19.001357Z",
     "iopub.status.idle": "2022-07-28T13:00:20.114221Z",
     "shell.execute_reply": "2022-07-28T13:00:20.113008Z"
    },
    "papermill": {
     "duration": 1.125763,
     "end_time": "2022-07-28T13:00:20.116951",
     "exception": false,
     "start_time": "2022-07-28T13:00:18.991188",
     "status": "completed"
    },
    "tags": []
   },
   "outputs": [],
   "source": [
    "import numpy as np\n",
    "import pandas as pd\n",
    "import matplotlib.pyplot as plt\n",
    "import seaborn as sns"
   ]
  },
  {
   "cell_type": "code",
   "execution_count": 3,
   "id": "0be72bde",
   "metadata": {
    "execution": {
     "iopub.execute_input": "2022-07-28T13:00:20.136120Z",
     "iopub.status.busy": "2022-07-28T13:00:20.135617Z",
     "iopub.status.idle": "2022-07-28T13:00:20.181621Z",
     "shell.execute_reply": "2022-07-28T13:00:20.180560Z"
    },
    "papermill": {
     "duration": 0.058996,
     "end_time": "2022-07-28T13:00:20.184622",
     "exception": false,
     "start_time": "2022-07-28T13:00:20.125626",
     "status": "completed"
    },
    "tags": []
   },
   "outputs": [],
   "source": [
    "df = pd.read_csv('../input/udemy-courses/udemy_courses.csv')"
   ]
  },
  {
   "cell_type": "code",
   "execution_count": 4,
   "id": "80d11bdd",
   "metadata": {
    "execution": {
     "iopub.execute_input": "2022-07-28T13:00:20.204953Z",
     "iopub.status.busy": "2022-07-28T13:00:20.204031Z",
     "iopub.status.idle": "2022-07-28T13:00:20.230934Z",
     "shell.execute_reply": "2022-07-28T13:00:20.229675Z"
    },
    "papermill": {
     "duration": 0.040455,
     "end_time": "2022-07-28T13:00:20.233986",
     "exception": false,
     "start_time": "2022-07-28T13:00:20.193531",
     "status": "completed"
    },
    "tags": []
   },
   "outputs": [
    {
     "data": {
      "text/html": [
       "<div>\n",
       "<style scoped>\n",
       "    .dataframe tbody tr th:only-of-type {\n",
       "        vertical-align: middle;\n",
       "    }\n",
       "\n",
       "    .dataframe tbody tr th {\n",
       "        vertical-align: top;\n",
       "    }\n",
       "\n",
       "    .dataframe thead th {\n",
       "        text-align: right;\n",
       "    }\n",
       "</style>\n",
       "<table border=\"1\" class=\"dataframe\">\n",
       "  <thead>\n",
       "    <tr style=\"text-align: right;\">\n",
       "      <th></th>\n",
       "      <th>course_id</th>\n",
       "      <th>course_title</th>\n",
       "      <th>url</th>\n",
       "      <th>is_paid</th>\n",
       "      <th>price</th>\n",
       "      <th>num_subscribers</th>\n",
       "      <th>num_reviews</th>\n",
       "      <th>num_lectures</th>\n",
       "      <th>level</th>\n",
       "      <th>content_duration</th>\n",
       "      <th>published_timestamp</th>\n",
       "      <th>subject</th>\n",
       "    </tr>\n",
       "  </thead>\n",
       "  <tbody>\n",
       "    <tr>\n",
       "      <th>0</th>\n",
       "      <td>1070968</td>\n",
       "      <td>Ultimate Investment Banking Course</td>\n",
       "      <td>https://www.udemy.com/ultimate-investment-bank...</td>\n",
       "      <td>True</td>\n",
       "      <td>200</td>\n",
       "      <td>2147</td>\n",
       "      <td>23</td>\n",
       "      <td>51</td>\n",
       "      <td>All Levels</td>\n",
       "      <td>1.5</td>\n",
       "      <td>2017-01-18T20:58:58Z</td>\n",
       "      <td>Business Finance</td>\n",
       "    </tr>\n",
       "    <tr>\n",
       "      <th>1</th>\n",
       "      <td>1113822</td>\n",
       "      <td>Complete GST Course &amp; Certification - Grow You...</td>\n",
       "      <td>https://www.udemy.com/goods-and-services-tax/</td>\n",
       "      <td>True</td>\n",
       "      <td>75</td>\n",
       "      <td>2792</td>\n",
       "      <td>923</td>\n",
       "      <td>274</td>\n",
       "      <td>All Levels</td>\n",
       "      <td>39.0</td>\n",
       "      <td>2017-03-09T16:34:20Z</td>\n",
       "      <td>Business Finance</td>\n",
       "    </tr>\n",
       "    <tr>\n",
       "      <th>2</th>\n",
       "      <td>1006314</td>\n",
       "      <td>Financial Modeling for Business Analysts and C...</td>\n",
       "      <td>https://www.udemy.com/financial-modeling-for-b...</td>\n",
       "      <td>True</td>\n",
       "      <td>45</td>\n",
       "      <td>2174</td>\n",
       "      <td>74</td>\n",
       "      <td>51</td>\n",
       "      <td>Intermediate Level</td>\n",
       "      <td>2.5</td>\n",
       "      <td>2016-12-19T19:26:30Z</td>\n",
       "      <td>Business Finance</td>\n",
       "    </tr>\n",
       "    <tr>\n",
       "      <th>3</th>\n",
       "      <td>1210588</td>\n",
       "      <td>Beginner to Pro - Financial Analysis in Excel ...</td>\n",
       "      <td>https://www.udemy.com/complete-excel-finance-c...</td>\n",
       "      <td>True</td>\n",
       "      <td>95</td>\n",
       "      <td>2451</td>\n",
       "      <td>11</td>\n",
       "      <td>36</td>\n",
       "      <td>All Levels</td>\n",
       "      <td>3.0</td>\n",
       "      <td>2017-05-30T20:07:24Z</td>\n",
       "      <td>Business Finance</td>\n",
       "    </tr>\n",
       "    <tr>\n",
       "      <th>4</th>\n",
       "      <td>1011058</td>\n",
       "      <td>How To Maximize Your Profits Trading Options</td>\n",
       "      <td>https://www.udemy.com/how-to-maximize-your-pro...</td>\n",
       "      <td>True</td>\n",
       "      <td>200</td>\n",
       "      <td>1276</td>\n",
       "      <td>45</td>\n",
       "      <td>26</td>\n",
       "      <td>Intermediate Level</td>\n",
       "      <td>2.0</td>\n",
       "      <td>2016-12-13T14:57:18Z</td>\n",
       "      <td>Business Finance</td>\n",
       "    </tr>\n",
       "  </tbody>\n",
       "</table>\n",
       "</div>"
      ],
      "text/plain": [
       "   course_id                                       course_title  \\\n",
       "0    1070968                 Ultimate Investment Banking Course   \n",
       "1    1113822  Complete GST Course & Certification - Grow You...   \n",
       "2    1006314  Financial Modeling for Business Analysts and C...   \n",
       "3    1210588  Beginner to Pro - Financial Analysis in Excel ...   \n",
       "4    1011058       How To Maximize Your Profits Trading Options   \n",
       "\n",
       "                                                 url  is_paid  price  \\\n",
       "0  https://www.udemy.com/ultimate-investment-bank...     True    200   \n",
       "1      https://www.udemy.com/goods-and-services-tax/     True     75   \n",
       "2  https://www.udemy.com/financial-modeling-for-b...     True     45   \n",
       "3  https://www.udemy.com/complete-excel-finance-c...     True     95   \n",
       "4  https://www.udemy.com/how-to-maximize-your-pro...     True    200   \n",
       "\n",
       "   num_subscribers  num_reviews  num_lectures               level  \\\n",
       "0             2147           23            51          All Levels   \n",
       "1             2792          923           274          All Levels   \n",
       "2             2174           74            51  Intermediate Level   \n",
       "3             2451           11            36          All Levels   \n",
       "4             1276           45            26  Intermediate Level   \n",
       "\n",
       "   content_duration   published_timestamp           subject  \n",
       "0               1.5  2017-01-18T20:58:58Z  Business Finance  \n",
       "1              39.0  2017-03-09T16:34:20Z  Business Finance  \n",
       "2               2.5  2016-12-19T19:26:30Z  Business Finance  \n",
       "3               3.0  2017-05-30T20:07:24Z  Business Finance  \n",
       "4               2.0  2016-12-13T14:57:18Z  Business Finance  "
      ]
     },
     "execution_count": 4,
     "metadata": {},
     "output_type": "execute_result"
    }
   ],
   "source": [
    "df.head()"
   ]
  },
  {
   "cell_type": "code",
   "execution_count": 5,
   "id": "e3e2e650",
   "metadata": {
    "execution": {
     "iopub.execute_input": "2022-07-28T13:00:20.255460Z",
     "iopub.status.busy": "2022-07-28T13:00:20.254578Z",
     "iopub.status.idle": "2022-07-28T13:00:20.285930Z",
     "shell.execute_reply": "2022-07-28T13:00:20.284472Z"
    },
    "papermill": {
     "duration": 0.046322,
     "end_time": "2022-07-28T13:00:20.289884",
     "exception": false,
     "start_time": "2022-07-28T13:00:20.243562",
     "status": "completed"
    },
    "tags": []
   },
   "outputs": [
    {
     "name": "stdout",
     "output_type": "stream",
     "text": [
      "<class 'pandas.core.frame.DataFrame'>\n",
      "RangeIndex: 3678 entries, 0 to 3677\n",
      "Data columns (total 12 columns):\n",
      " #   Column               Non-Null Count  Dtype  \n",
      "---  ------               --------------  -----  \n",
      " 0   course_id            3678 non-null   int64  \n",
      " 1   course_title         3678 non-null   object \n",
      " 2   url                  3678 non-null   object \n",
      " 3   is_paid              3678 non-null   bool   \n",
      " 4   price                3678 non-null   int64  \n",
      " 5   num_subscribers      3678 non-null   int64  \n",
      " 6   num_reviews          3678 non-null   int64  \n",
      " 7   num_lectures         3678 non-null   int64  \n",
      " 8   level                3678 non-null   object \n",
      " 9   content_duration     3678 non-null   float64\n",
      " 10  published_timestamp  3678 non-null   object \n",
      " 11  subject              3678 non-null   object \n",
      "dtypes: bool(1), float64(1), int64(5), object(5)\n",
      "memory usage: 319.8+ KB\n"
     ]
    }
   ],
   "source": [
    "df.info()"
   ]
  },
  {
   "cell_type": "markdown",
   "id": "934cb9e5",
   "metadata": {
    "papermill": {
     "duration": 0.008528,
     "end_time": "2022-07-28T13:00:20.307386",
     "exception": false,
     "start_time": "2022-07-28T13:00:20.298858",
     "status": "completed"
    },
    "tags": []
   },
   "source": [
    "no null values found"
   ]
  },
  {
   "cell_type": "markdown",
   "id": "8c622bee",
   "metadata": {
    "papermill": {
     "duration": 0.008732,
     "end_time": "2022-07-28T13:00:20.325916",
     "exception": false,
     "start_time": "2022-07-28T13:00:20.317184",
     "status": "completed"
    },
    "tags": []
   },
   "source": [
    "-----\n",
    "### 3 : Take A Deeper Look At The Data : Cleaning \n",
    "    - unneccassery columns \n",
    "    - all null columns \n",
    "    - check column type \n",
    "    - find duplicates \n",
    "    - check null values ---> delete : file [mean - mod , median]\n",
    "    - Categorical Columns : Relations"
   ]
  },
  {
   "cell_type": "markdown",
   "id": "6a5d7332",
   "metadata": {
    "papermill": {
     "duration": 0.008762,
     "end_time": "2022-07-28T13:00:20.343857",
     "exception": false,
     "start_time": "2022-07-28T13:00:20.335095",
     "status": "completed"
    },
    "tags": []
   },
   "source": [
    " - Null Values            -----> No \n",
    " - Unneccasssry Columns   -----> url \n",
    " - Categorical Columns.   -----> is_paid , level , subject"
   ]
  },
  {
   "cell_type": "code",
   "execution_count": 6,
   "id": "74e49c3f",
   "metadata": {
    "execution": {
     "iopub.execute_input": "2022-07-28T13:00:20.365247Z",
     "iopub.status.busy": "2022-07-28T13:00:20.364800Z",
     "iopub.status.idle": "2022-07-28T13:00:20.374138Z",
     "shell.execute_reply": "2022-07-28T13:00:20.372803Z"
    },
    "papermill": {
     "duration": 0.023528,
     "end_time": "2022-07-28T13:00:20.376870",
     "exception": false,
     "start_time": "2022-07-28T13:00:20.353342",
     "status": "completed"
    },
    "tags": []
   },
   "outputs": [],
   "source": [
    "## Delete Url Column\n",
    "df.drop('url',axis=1,inplace=True)"
   ]
  },
  {
   "cell_type": "code",
   "execution_count": 7,
   "id": "fb887da3",
   "metadata": {
    "execution": {
     "iopub.execute_input": "2022-07-28T13:00:20.398814Z",
     "iopub.status.busy": "2022-07-28T13:00:20.397821Z",
     "iopub.status.idle": "2022-07-28T13:00:20.406762Z",
     "shell.execute_reply": "2022-07-28T13:00:20.405577Z"
    },
    "papermill": {
     "duration": 0.022619,
     "end_time": "2022-07-28T13:00:20.409173",
     "exception": false,
     "start_time": "2022-07-28T13:00:20.386554",
     "status": "completed"
    },
    "tags": []
   },
   "outputs": [
    {
     "data": {
      "text/plain": [
       "course_id                int64\n",
       "course_title            object\n",
       "is_paid                   bool\n",
       "price                    int64\n",
       "num_subscribers          int64\n",
       "num_reviews              int64\n",
       "num_lectures             int64\n",
       "level                   object\n",
       "content_duration       float64\n",
       "published_timestamp     object\n",
       "subject                 object\n",
       "dtype: object"
      ]
     },
     "execution_count": 7,
     "metadata": {},
     "output_type": "execute_result"
    }
   ],
   "source": [
    "# Take Another Look\n",
    "df.dtypes"
   ]
  },
  {
   "cell_type": "code",
   "execution_count": 8,
   "id": "536547f3",
   "metadata": {
    "execution": {
     "iopub.execute_input": "2022-07-28T13:00:20.430075Z",
     "iopub.status.busy": "2022-07-28T13:00:20.429007Z",
     "iopub.status.idle": "2022-07-28T13:00:20.438664Z",
     "shell.execute_reply": "2022-07-28T13:00:20.437666Z"
    },
    "papermill": {
     "duration": 0.022966,
     "end_time": "2022-07-28T13:00:20.441280",
     "exception": false,
     "start_time": "2022-07-28T13:00:20.418314",
     "status": "completed"
    },
    "tags": []
   },
   "outputs": [],
   "source": [
    "# convert published_timestamp from object to datetime\n",
    "df['published_timestamp'] = pd.to_datetime(df['published_timestamp'])"
   ]
  },
  {
   "cell_type": "code",
   "execution_count": 9,
   "id": "71ca7bc5",
   "metadata": {
    "execution": {
     "iopub.execute_input": "2022-07-28T13:00:20.462325Z",
     "iopub.status.busy": "2022-07-28T13:00:20.461131Z",
     "iopub.status.idle": "2022-07-28T13:00:20.487988Z",
     "shell.execute_reply": "2022-07-28T13:00:20.486959Z"
    },
    "papermill": {
     "duration": 0.040016,
     "end_time": "2022-07-28T13:00:20.490357",
     "exception": false,
     "start_time": "2022-07-28T13:00:20.450341",
     "status": "completed"
    },
    "tags": []
   },
   "outputs": [
    {
     "data": {
      "text/html": [
       "<div>\n",
       "<style scoped>\n",
       "    .dataframe tbody tr th:only-of-type {\n",
       "        vertical-align: middle;\n",
       "    }\n",
       "\n",
       "    .dataframe tbody tr th {\n",
       "        vertical-align: top;\n",
       "    }\n",
       "\n",
       "    .dataframe thead th {\n",
       "        text-align: right;\n",
       "    }\n",
       "</style>\n",
       "<table border=\"1\" class=\"dataframe\">\n",
       "  <thead>\n",
       "    <tr style=\"text-align: right;\">\n",
       "      <th></th>\n",
       "      <th>course_id</th>\n",
       "      <th>course_title</th>\n",
       "      <th>is_paid</th>\n",
       "      <th>price</th>\n",
       "      <th>num_subscribers</th>\n",
       "      <th>num_reviews</th>\n",
       "      <th>num_lectures</th>\n",
       "      <th>level</th>\n",
       "      <th>content_duration</th>\n",
       "      <th>published_timestamp</th>\n",
       "      <th>subject</th>\n",
       "    </tr>\n",
       "  </thead>\n",
       "  <tbody>\n",
       "    <tr>\n",
       "      <th>1638</th>\n",
       "      <td>278948</td>\n",
       "      <td>Become a Professional Graphic Designer</td>\n",
       "      <td>True</td>\n",
       "      <td>35</td>\n",
       "      <td>3618</td>\n",
       "      <td>345</td>\n",
       "      <td>207</td>\n",
       "      <td>All Levels</td>\n",
       "      <td>20.5</td>\n",
       "      <td>2014-08-13 16:37:12+00:00</td>\n",
       "      <td>Graphic Design</td>\n",
       "    </tr>\n",
       "    <tr>\n",
       "      <th>1258</th>\n",
       "      <td>600486</td>\n",
       "      <td>Teoria Basica del Arte. Como Pintar Ilustracio...</td>\n",
       "      <td>True</td>\n",
       "      <td>20</td>\n",
       "      <td>5104</td>\n",
       "      <td>437</td>\n",
       "      <td>26</td>\n",
       "      <td>Beginner Level</td>\n",
       "      <td>1.0</td>\n",
       "      <td>2015-09-08 17:29:12+00:00</td>\n",
       "      <td>Graphic Design</td>\n",
       "    </tr>\n",
       "    <tr>\n",
       "      <th>1852</th>\n",
       "      <td>174562</td>\n",
       "      <td>Learn to Play Saxophone: Beginner to Pro in Un...</td>\n",
       "      <td>True</td>\n",
       "      <td>50</td>\n",
       "      <td>1213</td>\n",
       "      <td>158</td>\n",
       "      <td>77</td>\n",
       "      <td>Beginner Level</td>\n",
       "      <td>5.0</td>\n",
       "      <td>2014-03-03 19:36:23+00:00</td>\n",
       "      <td>Musical Instruments</td>\n",
       "    </tr>\n",
       "    <tr>\n",
       "      <th>470</th>\n",
       "      <td>1220862</td>\n",
       "      <td>The True ' Secret Sauce  For Stock Market Succ...</td>\n",
       "      <td>True</td>\n",
       "      <td>200</td>\n",
       "      <td>23</td>\n",
       "      <td>2</td>\n",
       "      <td>30</td>\n",
       "      <td>All Levels</td>\n",
       "      <td>3.0</td>\n",
       "      <td>2017-06-11 16:01:03+00:00</td>\n",
       "      <td>Business Finance</td>\n",
       "    </tr>\n",
       "    <tr>\n",
       "      <th>2620</th>\n",
       "      <td>788514</td>\n",
       "      <td>Learn to use JSON</td>\n",
       "      <td>True</td>\n",
       "      <td>150</td>\n",
       "      <td>12838</td>\n",
       "      <td>96</td>\n",
       "      <td>22</td>\n",
       "      <td>Beginner Level</td>\n",
       "      <td>1.5</td>\n",
       "      <td>2016-03-11 18:30:18+00:00</td>\n",
       "      <td>Web Development</td>\n",
       "    </tr>\n",
       "    <tr>\n",
       "      <th>2015</th>\n",
       "      <td>1123250</td>\n",
       "      <td>Master Class Piano Techniques: Tips To EZ Coor...</td>\n",
       "      <td>True</td>\n",
       "      <td>95</td>\n",
       "      <td>2026</td>\n",
       "      <td>3</td>\n",
       "      <td>62</td>\n",
       "      <td>Intermediate Level</td>\n",
       "      <td>2.5</td>\n",
       "      <td>2017-03-09 16:25:04+00:00</td>\n",
       "      <td>Musical Instruments</td>\n",
       "    </tr>\n",
       "    <tr>\n",
       "      <th>2700</th>\n",
       "      <td>11475</td>\n",
       "      <td>Become a Certified Web Developer</td>\n",
       "      <td>True</td>\n",
       "      <td>100</td>\n",
       "      <td>26673</td>\n",
       "      <td>1090</td>\n",
       "      <td>185</td>\n",
       "      <td>All Levels</td>\n",
       "      <td>12.0</td>\n",
       "      <td>2011-12-20 15:29:25+00:00</td>\n",
       "      <td>Web Development</td>\n",
       "    </tr>\n",
       "    <tr>\n",
       "      <th>3233</th>\n",
       "      <td>446134</td>\n",
       "      <td>Ultimate Web Designer &amp; Developer Course: Buil...</td>\n",
       "      <td>True</td>\n",
       "      <td>200</td>\n",
       "      <td>33788</td>\n",
       "      <td>4434</td>\n",
       "      <td>246</td>\n",
       "      <td>All Levels</td>\n",
       "      <td>32.5</td>\n",
       "      <td>2015-08-20 20:55:19+00:00</td>\n",
       "      <td>Web Development</td>\n",
       "    </tr>\n",
       "    <tr>\n",
       "      <th>584</th>\n",
       "      <td>1165780</td>\n",
       "      <td>Ratio analysis for bankers and credit analysts</td>\n",
       "      <td>True</td>\n",
       "      <td>20</td>\n",
       "      <td>1</td>\n",
       "      <td>0</td>\n",
       "      <td>13</td>\n",
       "      <td>Beginner Level</td>\n",
       "      <td>3.0</td>\n",
       "      <td>2017-04-12 16:55:26+00:00</td>\n",
       "      <td>Business Finance</td>\n",
       "    </tr>\n",
       "    <tr>\n",
       "      <th>1978</th>\n",
       "      <td>217978</td>\n",
       "      <td>ブルースギター入門</td>\n",
       "      <td>False</td>\n",
       "      <td>0</td>\n",
       "      <td>462</td>\n",
       "      <td>6</td>\n",
       "      <td>23</td>\n",
       "      <td>All Levels</td>\n",
       "      <td>3.5</td>\n",
       "      <td>2014-05-17 04:00:12+00:00</td>\n",
       "      <td>Musical Instruments</td>\n",
       "    </tr>\n",
       "  </tbody>\n",
       "</table>\n",
       "</div>"
      ],
      "text/plain": [
       "      course_id                                       course_title  is_paid  \\\n",
       "1638     278948             Become a Professional Graphic Designer     True   \n",
       "1258     600486  Teoria Basica del Arte. Como Pintar Ilustracio...     True   \n",
       "1852     174562  Learn to Play Saxophone: Beginner to Pro in Un...     True   \n",
       "470     1220862  The True ' Secret Sauce  For Stock Market Succ...     True   \n",
       "2620     788514                                  Learn to use JSON     True   \n",
       "2015    1123250  Master Class Piano Techniques: Tips To EZ Coor...     True   \n",
       "2700      11475                   Become a Certified Web Developer     True   \n",
       "3233     446134  Ultimate Web Designer & Developer Course: Buil...     True   \n",
       "584     1165780     Ratio analysis for bankers and credit analysts     True   \n",
       "1978     217978                                          ブルースギター入門    False   \n",
       "\n",
       "      price  num_subscribers  num_reviews  num_lectures               level  \\\n",
       "1638     35             3618          345           207          All Levels   \n",
       "1258     20             5104          437            26      Beginner Level   \n",
       "1852     50             1213          158            77      Beginner Level   \n",
       "470     200               23            2            30          All Levels   \n",
       "2620    150            12838           96            22      Beginner Level   \n",
       "2015     95             2026            3            62  Intermediate Level   \n",
       "2700    100            26673         1090           185          All Levels   \n",
       "3233    200            33788         4434           246          All Levels   \n",
       "584      20                1            0            13      Beginner Level   \n",
       "1978      0              462            6            23          All Levels   \n",
       "\n",
       "      content_duration       published_timestamp              subject  \n",
       "1638              20.5 2014-08-13 16:37:12+00:00       Graphic Design  \n",
       "1258               1.0 2015-09-08 17:29:12+00:00       Graphic Design  \n",
       "1852               5.0 2014-03-03 19:36:23+00:00  Musical Instruments  \n",
       "470                3.0 2017-06-11 16:01:03+00:00     Business Finance  \n",
       "2620               1.5 2016-03-11 18:30:18+00:00      Web Development  \n",
       "2015               2.5 2017-03-09 16:25:04+00:00  Musical Instruments  \n",
       "2700              12.0 2011-12-20 15:29:25+00:00      Web Development  \n",
       "3233              32.5 2015-08-20 20:55:19+00:00      Web Development  \n",
       "584                3.0 2017-04-12 16:55:26+00:00     Business Finance  \n",
       "1978               3.5 2014-05-17 04:00:12+00:00  Musical Instruments  "
      ]
     },
     "execution_count": 9,
     "metadata": {},
     "output_type": "execute_result"
    }
   ],
   "source": [
    "## see sample of data\n",
    "df.sample(10)"
   ]
  },
  {
   "cell_type": "markdown",
   "id": "bae5e0b6",
   "metadata": {
    "papermill": {
     "duration": 0.009527,
     "end_time": "2022-07-28T13:00:20.509767",
     "exception": false,
     "start_time": "2022-07-28T13:00:20.500240",
     "status": "completed"
    },
    "tags": []
   },
   "source": [
    "--------\n",
    "## Visualize "
   ]
  },
  {
   "cell_type": "code",
   "execution_count": 10,
   "id": "a5bf120d",
   "metadata": {
    "execution": {
     "iopub.execute_input": "2022-07-28T13:00:20.532198Z",
     "iopub.status.busy": "2022-07-28T13:00:20.530895Z",
     "iopub.status.idle": "2022-07-28T13:00:20.750407Z",
     "shell.execute_reply": "2022-07-28T13:00:20.749251Z"
    },
    "papermill": {
     "duration": 0.233436,
     "end_time": "2022-07-28T13:00:20.753045",
     "exception": false,
     "start_time": "2022-07-28T13:00:20.519609",
     "status": "completed"
    },
    "tags": []
   },
   "outputs": [
    {
     "name": "stderr",
     "output_type": "stream",
     "text": [
      "/opt/conda/lib/python3.7/site-packages/seaborn/_decorators.py:43: FutureWarning: Pass the following variable as a keyword arg: x. From version 0.12, the only valid positional argument will be `data`, and passing other arguments without an explicit keyword will result in an error or misinterpretation.\n",
      "  FutureWarning\n"
     ]
    },
    {
     "data": {
      "text/plain": [
       "Text(0.5, 1.0, 'Paid And Free Courses')"
      ]
     },
     "execution_count": 10,
     "metadata": {},
     "output_type": "execute_result"
    },
    {
     "data": {
      "image/png": "[encoded data removed]",
      "text/plain": [
       "<Figure size 432x288 with 1 Axes>"
      ]
     },
     "metadata": {
      "needs_background": "light"
     },
     "output_type": "display_data"
    }
   ],
   "source": [
    "# free Vs Paid Courses \n",
    "sns.countplot('is_paid',data=df)\n",
    "plt.title('Paid And Free Courses')"
   ]
  },
  {
   "cell_type": "markdown",
   "id": "d0146343",
   "metadata": {
    "papermill": {
     "duration": 0.010291,
     "end_time": "2022-07-28T13:00:20.773311",
     "exception": false,
     "start_time": "2022-07-28T13:00:20.763020",
     "status": "completed"
    },
    "tags": []
   },
   "source": [
    "#### Result : Most Of The Courses Is Paid"
   ]
  },
  {
   "cell_type": "code",
   "execution_count": 11,
   "id": "894c7511",
   "metadata": {
    "execution": {
     "iopub.execute_input": "2022-07-28T13:00:20.796202Z",
     "iopub.status.busy": "2022-07-28T13:00:20.795526Z",
     "iopub.status.idle": "2022-07-28T13:00:21.010651Z",
     "shell.execute_reply": "2022-07-28T13:00:21.009228Z"
    },
    "papermill": {
     "duration": 0.229753,
     "end_time": "2022-07-28T13:00:21.013556",
     "exception": false,
     "start_time": "2022-07-28T13:00:20.783803",
     "status": "completed"
    },
    "tags": []
   },
   "outputs": [
    {
     "name": "stderr",
     "output_type": "stream",
     "text": [
      "/opt/conda/lib/python3.7/site-packages/seaborn/_decorators.py:43: FutureWarning: Pass the following variable as a keyword arg: x. From version 0.12, the only valid positional argument will be `data`, and passing other arguments without an explicit keyword will result in an error or misinterpretation.\n",
      "  FutureWarning\n"
     ]
    },
    {
     "data": {
      "text/plain": [
       "<AxesSubplot:xlabel='level', ylabel='count'>"
      ]
     },
     "execution_count": 11,
     "metadata": {},
     "output_type": "execute_result"
    },
    {
     "data": {
      "image/png": "[encoded data removed]",
      "text/plain": [
       "<Figure size 432x288 with 1 Axes>"
      ]
     },
     "metadata": {
      "needs_background": "light"
     },
     "output_type": "display_data"
    }
   ],
   "source": [
    "sns.countplot('level',data=df)"
   ]
  },
  {
   "cell_type": "markdown",
   "id": "80c4263f",
   "metadata": {
    "papermill": {
     "duration": 0.011499,
     "end_time": "2022-07-28T13:00:21.035798",
     "exception": false,
     "start_time": "2022-07-28T13:00:21.024299",
     "status": "completed"
    },
    "tags": []
   },
   "source": [
    "#### Result ---> Most Of The Courses are All Levels , Need More From Expert Level"
   ]
  },
  {
   "cell_type": "code",
   "execution_count": 12,
   "id": "bf8e7626",
   "metadata": {
    "execution": {
     "iopub.execute_input": "2022-07-28T13:00:21.060094Z",
     "iopub.status.busy": "2022-07-28T13:00:21.058670Z",
     "iopub.status.idle": "2022-07-28T13:00:21.227021Z",
     "shell.execute_reply": "2022-07-28T13:00:21.225327Z"
    },
    "papermill": {
     "duration": 0.183114,
     "end_time": "2022-07-28T13:00:21.229629",
     "exception": false,
     "start_time": "2022-07-28T13:00:21.046515",
     "status": "completed"
    },
    "tags": []
   },
   "outputs": [
    {
     "name": "stderr",
     "output_type": "stream",
     "text": [
      "/opt/conda/lib/python3.7/site-packages/seaborn/_decorators.py:43: FutureWarning: Pass the following variable as a keyword arg: x. From version 0.12, the only valid positional argument will be `data`, and passing other arguments without an explicit keyword will result in an error or misinterpretation.\n",
      "  FutureWarning\n"
     ]
    },
    {
     "data": {
      "text/plain": [
       "<AxesSubplot:xlabel='subject', ylabel='count'>"
      ]
     },
     "execution_count": 12,
     "metadata": {},
     "output_type": "execute_result"
    },
    {
     "data": {
      "image/png": "[encoded data removed]",
      "text/plain": [
       "<Figure size 864x576 with 1 Axes>"
      ]
     },
     "metadata": {
      "needs_background": "light"
     },
     "output_type": "display_data"
    }
   ],
   "source": [
    "plt.figure(figsize=(12,8))\n",
    "sns.countplot('subject',data=df)"
   ]
  },
  {
   "cell_type": "markdown",
   "id": "a92209d2",
   "metadata": {
    "papermill": {
     "duration": 0.011244,
     "end_time": "2022-07-28T13:00:21.252195",
     "exception": false,
     "start_time": "2022-07-28T13:00:21.240951",
     "status": "completed"
    },
    "tags": []
   },
   "source": [
    "#### Result --> Most Of Students care about Buisiness Finance & Web Development "
   ]
  },
  {
   "cell_type": "markdown",
   "id": "edb8df11",
   "metadata": {
    "papermill": {
     "duration": 0.010834,
     "end_time": "2022-07-28T13:00:21.274141",
     "exception": false,
     "start_time": "2022-07-28T13:00:21.263307",
     "status": "completed"
    },
    "tags": []
   },
   "source": [
    "-------\n",
    "## Find Relations Between Columns "
   ]
  },
  {
   "cell_type": "code",
   "execution_count": 13,
   "id": "7ff327d1",
   "metadata": {
    "execution": {
     "iopub.execute_input": "2022-07-28T13:00:21.298319Z",
     "iopub.status.busy": "2022-07-28T13:00:21.297442Z",
     "iopub.status.idle": "2022-07-28T13:00:21.316821Z",
     "shell.execute_reply": "2022-07-28T13:00:21.315502Z"
    },
    "papermill": {
     "duration": 0.035072,
     "end_time": "2022-07-28T13:00:21.320097",
     "exception": false,
     "start_time": "2022-07-28T13:00:21.285025",
     "status": "completed"
    },
    "tags": []
   },
   "outputs": [
    {
     "data": {
      "text/html": [
       "<div>\n",
       "<style scoped>\n",
       "    .dataframe tbody tr th:only-of-type {\n",
       "        vertical-align: middle;\n",
       "    }\n",
       "\n",
       "    .dataframe tbody tr th {\n",
       "        vertical-align: top;\n",
       "    }\n",
       "\n",
       "    .dataframe thead th {\n",
       "        text-align: right;\n",
       "    }\n",
       "</style>\n",
       "<table border=\"1\" class=\"dataframe\">\n",
       "  <thead>\n",
       "    <tr style=\"text-align: right;\">\n",
       "      <th></th>\n",
       "      <th>course_id</th>\n",
       "      <th>is_paid</th>\n",
       "      <th>price</th>\n",
       "      <th>num_subscribers</th>\n",
       "      <th>num_reviews</th>\n",
       "      <th>num_lectures</th>\n",
       "      <th>content_duration</th>\n",
       "    </tr>\n",
       "  </thead>\n",
       "  <tbody>\n",
       "    <tr>\n",
       "      <th>course_id</th>\n",
       "      <td>1.000000</td>\n",
       "      <td>-0.013679</td>\n",
       "      <td>0.142319</td>\n",
       "      <td>-0.167856</td>\n",
       "      <td>-0.058550</td>\n",
       "      <td>-0.024646</td>\n",
       "      <td>-0.057223</td>\n",
       "    </tr>\n",
       "    <tr>\n",
       "      <th>is_paid</th>\n",
       "      <td>-0.013679</td>\n",
       "      <td>1.000000</td>\n",
       "      <td>0.328513</td>\n",
       "      <td>-0.266159</td>\n",
       "      <td>-0.087471</td>\n",
       "      <td>0.112574</td>\n",
       "      <td>0.094417</td>\n",
       "    </tr>\n",
       "    <tr>\n",
       "      <th>price</th>\n",
       "      <td>0.142319</td>\n",
       "      <td>0.328513</td>\n",
       "      <td>1.000000</td>\n",
       "      <td>0.050769</td>\n",
       "      <td>0.113696</td>\n",
       "      <td>0.330160</td>\n",
       "      <td>0.293450</td>\n",
       "    </tr>\n",
       "    <tr>\n",
       "      <th>num_subscribers</th>\n",
       "      <td>-0.167856</td>\n",
       "      <td>-0.266159</td>\n",
       "      <td>0.050769</td>\n",
       "      <td>1.000000</td>\n",
       "      <td>0.649946</td>\n",
       "      <td>0.157746</td>\n",
       "      <td>0.161839</td>\n",
       "    </tr>\n",
       "    <tr>\n",
       "      <th>num_reviews</th>\n",
       "      <td>-0.058550</td>\n",
       "      <td>-0.087471</td>\n",
       "      <td>0.113696</td>\n",
       "      <td>0.649946</td>\n",
       "      <td>1.000000</td>\n",
       "      <td>0.243029</td>\n",
       "      <td>0.228889</td>\n",
       "    </tr>\n",
       "    <tr>\n",
       "      <th>num_lectures</th>\n",
       "      <td>-0.024646</td>\n",
       "      <td>0.112574</td>\n",
       "      <td>0.330160</td>\n",
       "      <td>0.157746</td>\n",
       "      <td>0.243029</td>\n",
       "      <td>1.000000</td>\n",
       "      <td>0.801647</td>\n",
       "    </tr>\n",
       "    <tr>\n",
       "      <th>content_duration</th>\n",
       "      <td>-0.057223</td>\n",
       "      <td>0.094417</td>\n",
       "      <td>0.293450</td>\n",
       "      <td>0.161839</td>\n",
       "      <td>0.228889</td>\n",
       "      <td>0.801647</td>\n",
       "      <td>1.000000</td>\n",
       "    </tr>\n",
       "  </tbody>\n",
       "</table>\n",
       "</div>"
      ],
      "text/plain": [
       "                  course_id   is_paid     price  num_subscribers  num_reviews  \\\n",
       "course_id          1.000000 -0.013679  0.142319        -0.167856    -0.058550   \n",
       "is_paid           -0.013679  1.000000  0.328513        -0.266159    -0.087471   \n",
       "price              0.142319  0.328513  1.000000         0.050769     0.113696   \n",
       "num_subscribers   -0.167856 -0.266159  0.050769         1.000000     0.649946   \n",
       "num_reviews       -0.058550 -0.087471  0.113696         0.649946     1.000000   \n",
       "num_lectures      -0.024646  0.112574  0.330160         0.157746     0.243029   \n",
       "content_duration  -0.057223  0.094417  0.293450         0.161839     0.228889   \n",
       "\n",
       "                  num_lectures  content_duration  \n",
       "course_id            -0.024646         -0.057223  \n",
       "is_paid               0.112574          0.094417  \n",
       "price                 0.330160          0.293450  \n",
       "num_subscribers       0.157746          0.161839  \n",
       "num_reviews           0.243029          0.228889  \n",
       "num_lectures          1.000000          0.801647  \n",
       "content_duration      0.801647          1.000000  "
      ]
     },
     "execution_count": 13,
     "metadata": {},
     "output_type": "execute_result"
    }
   ],
   "source": [
    "df.corr()"
   ]
  },
  {
   "cell_type": "code",
   "execution_count": 14,
   "id": "2f810c2d",
   "metadata": {
    "execution": {
     "iopub.execute_input": "2022-07-28T13:00:21.348920Z",
     "iopub.status.busy": "2022-07-28T13:00:21.347340Z",
     "iopub.status.idle": "2022-07-28T13:00:21.867056Z",
     "shell.execute_reply": "2022-07-28T13:00:21.865653Z"
    },
    "papermill": {
     "duration": 0.53675,
     "end_time": "2022-07-28T13:00:21.870054",
     "exception": false,
     "start_time": "2022-07-28T13:00:21.333304",
     "status": "completed"
    },
    "tags": []
   },
   "outputs": [
    {
     "data": {
      "text/plain": [
       "<AxesSubplot:>"
      ]
     },
     "execution_count": 14,
     "metadata": {},
     "output_type": "execute_result"
    },
    {
     "data": {
      "image/png": "[encoded data removed]",
      "text/plain": [
       "<Figure size 864x576 with 2 Axes>"
      ]
     },
     "metadata": {
      "needs_background": "light"
     },
     "output_type": "display_data"
    }
   ],
   "source": [
    "## See Correlation In Seaborn ColorMap\n",
    "plt.figure(figsize=(12,8))\n",
    "sns.heatmap(df.corr(),annot=True)"
   ]
  },
  {
   "cell_type": "code",
   "execution_count": 15,
   "id": "413e7572",
   "metadata": {
    "execution": {
     "iopub.execute_input": "2022-07-28T13:00:21.898400Z",
     "iopub.status.busy": "2022-07-28T13:00:21.897995Z",
     "iopub.status.idle": "2022-07-28T13:00:22.484070Z",
     "shell.execute_reply": "2022-07-28T13:00:22.482856Z"
    },
    "papermill": {
     "duration": 0.603632,
     "end_time": "2022-07-28T13:00:22.487241",
     "exception": false,
     "start_time": "2022-07-28T13:00:21.883609",
     "status": "completed"
    },
    "tags": []
   },
   "outputs": [
    {
     "data": {
      "text/plain": [
       "<AxesSubplot:xlabel='price', ylabel='num_subscribers'>"
      ]
     },
     "execution_count": 15,
     "metadata": {},
     "output_type": "execute_result"
    },
    {
     "data": {
      "image/png": "[encoded data removed]",
      "text/plain": [
       "<Figure size 864x576 with 1 Axes>"
      ]
     },
     "metadata": {
      "needs_background": "light"
     },
     "output_type": "display_data"
    }
   ],
   "source": [
    "# visualize subscribers with price \n",
    "plt.figure(figsize=(12,8))\n",
    "sns.regplot(x=\"price\" , y=\"num_subscribers\" , data=df)"
   ]
  },
  {
   "cell_type": "markdown",
   "id": "2f5116f1",
   "metadata": {
    "papermill": {
     "duration": 0.013303,
     "end_time": "2022-07-28T13:00:22.515231",
     "exception": false,
     "start_time": "2022-07-28T13:00:22.501928",
     "status": "completed"
    },
    "tags": []
   },
   "source": [
    "#### Result ---> Course Price Does Not Affect Subscripers "
   ]
  },
  {
   "cell_type": "code",
   "execution_count": 16,
   "id": "cce8bdc6",
   "metadata": {
    "execution": {
     "iopub.execute_input": "2022-07-28T13:00:22.544436Z",
     "iopub.status.busy": "2022-07-28T13:00:22.543531Z",
     "iopub.status.idle": "2022-07-28T13:00:22.782739Z",
     "shell.execute_reply": "2022-07-28T13:00:22.781432Z"
    },
    "papermill": {
     "duration": 0.256086,
     "end_time": "2022-07-28T13:00:22.785122",
     "exception": false,
     "start_time": "2022-07-28T13:00:22.529036",
     "status": "completed"
    },
    "tags": []
   },
   "outputs": [
    {
     "data": {
      "text/plain": [
       "<matplotlib.collections.PathCollection at 0x7fb7f9615110>"
      ]
     },
     "execution_count": 16,
     "metadata": {},
     "output_type": "execute_result"
    },
    {
     "data": {
      "image/png": "[encoded data removed]",
      "text/plain": [
       "<Figure size 864x576 with 1 Axes>"
      ]
     },
     "metadata": {
      "needs_background": "light"
     },
     "output_type": "display_data"
    }
   ],
   "source": [
    "plt.figure(figsize=(12,8))\n",
    "plt.scatter(df['price'],df['num_subscribers'])"
   ]
  },
  {
   "cell_type": "code",
   "execution_count": 17,
   "id": "ef3778ec",
   "metadata": {
    "execution": {
     "iopub.execute_input": "2022-07-28T13:00:22.814573Z",
     "iopub.status.busy": "2022-07-28T13:00:22.814149Z",
     "iopub.status.idle": "2022-07-28T13:00:23.351780Z",
     "shell.execute_reply": "2022-07-28T13:00:23.350511Z"
    },
    "papermill": {
     "duration": 0.555831,
     "end_time": "2022-07-28T13:00:23.354603",
     "exception": false,
     "start_time": "2022-07-28T13:00:22.798772",
     "status": "completed"
    },
    "tags": []
   },
   "outputs": [
    {
     "data": {
      "text/plain": [
       "<AxesSubplot:xlabel='price', ylabel='num_reviews'>"
      ]
     },
     "execution_count": 17,
     "metadata": {},
     "output_type": "execute_result"
    },
    {
     "data": {
      "image/png": "[encoded data removed]",
      "text/plain": [
       "<Figure size 864x576 with 1 Axes>"
      ]
     },
     "metadata": {
      "needs_background": "light"
     },
     "output_type": "display_data"
    }
   ],
   "source": [
    "plt.figure(figsize=(12,8))\n",
    "sns.regplot(x=\"price\" , y=\"num_reviews\" , data=df)"
   ]
  },
  {
   "cell_type": "markdown",
   "id": "e44f7185",
   "metadata": {
    "papermill": {
     "duration": 0.013353,
     "end_time": "2022-07-28T13:00:23.381632",
     "exception": false,
     "start_time": "2022-07-28T13:00:23.368279",
     "status": "completed"
    },
    "tags": []
   },
   "source": [
    "#### Result --> Price Does Not Affect Reviews"
   ]
  },
  {
   "cell_type": "code",
   "execution_count": 18,
   "id": "8943f8e7",
   "metadata": {
    "execution": {
     "iopub.execute_input": "2022-07-28T13:00:23.411795Z",
     "iopub.status.busy": "2022-07-28T13:00:23.410598Z",
     "iopub.status.idle": "2022-07-28T13:00:23.961056Z",
     "shell.execute_reply": "2022-07-28T13:00:23.959796Z"
    },
    "papermill": {
     "duration": 0.568012,
     "end_time": "2022-07-28T13:00:23.963543",
     "exception": false,
     "start_time": "2022-07-28T13:00:23.395531",
     "status": "completed"
    },
    "tags": []
   },
   "outputs": [
    {
     "data": {
      "text/plain": [
       "<AxesSubplot:xlabel='price', ylabel='content_duration'>"
      ]
     },
     "execution_count": 18,
     "metadata": {},
     "output_type": "execute_result"
    },
    {
     "data": {
      "image/png": "[encoded data removed]",
      "text/plain": [
       "<Figure size 864x576 with 1 Axes>"
      ]
     },
     "metadata": {
      "needs_background": "light"
     },
     "output_type": "display_data"
    }
   ],
   "source": [
    "# price vs course duration\n",
    "plt.figure(figsize=(12,8))\n",
    "sns.regplot(x=\"price\" , y=\"content_duration\" , data=df)"
   ]
  },
  {
   "cell_type": "markdown",
   "id": "de5cadea",
   "metadata": {
    "papermill": {
     "duration": 0.014287,
     "end_time": "2022-07-28T13:00:23.993531",
     "exception": false,
     "start_time": "2022-07-28T13:00:23.979244",
     "status": "completed"
    },
    "tags": []
   },
   "source": [
    "#### Result --> Price Does Not Affect Course Duration "
   ]
  },
  {
   "cell_type": "code",
   "execution_count": 19,
   "id": "aa523241",
   "metadata": {
    "execution": {
     "iopub.execute_input": "2022-07-28T13:00:24.025228Z",
     "iopub.status.busy": "2022-07-28T13:00:24.024806Z",
     "iopub.status.idle": "2022-07-28T13:00:24.551445Z",
     "shell.execute_reply": "2022-07-28T13:00:24.550642Z"
    },
    "papermill": {
     "duration": 0.545237,
     "end_time": "2022-07-28T13:00:24.553773",
     "exception": false,
     "start_time": "2022-07-28T13:00:24.008536",
     "status": "completed"
    },
    "tags": []
   },
   "outputs": [
    {
     "data": {
      "text/plain": [
       "<AxesSubplot:xlabel='num_subscribers', ylabel='content_duration'>"
      ]
     },
     "execution_count": 19,
     "metadata": {},
     "output_type": "execute_result"
    },
    {
     "data": {
      "image/png": "[encoded data removed]",
      "text/plain": [
       "<Figure size 864x576 with 1 Axes>"
      ]
     },
     "metadata": {
      "needs_background": "light"
     },
     "output_type": "display_data"
    }
   ],
   "source": [
    "# course duration vs num of subscribers \n",
    "plt.figure(figsize=(12,8))\n",
    "sns.regplot(x=\"num_subscribers\" , y=\"content_duration\" , data=df)"
   ]
  },
  {
   "cell_type": "markdown",
   "id": "51f60502",
   "metadata": {
    "papermill": {
     "duration": 0.015359,
     "end_time": "2022-07-28T13:00:24.584683",
     "exception": false,
     "start_time": "2022-07-28T13:00:24.569324",
     "status": "completed"
    },
    "tags": []
   },
   "source": [
    "####  Result --> probaly course time affect course subscribers "
   ]
  },
  {
   "cell_type": "code",
   "execution_count": 20,
   "id": "0957cda1",
   "metadata": {
    "execution": {
     "iopub.execute_input": "2022-07-28T13:00:24.618316Z",
     "iopub.status.busy": "2022-07-28T13:00:24.617465Z",
     "iopub.status.idle": "2022-07-28T13:00:25.142432Z",
     "shell.execute_reply": "2022-07-28T13:00:25.141219Z"
    },
    "papermill": {
     "duration": 0.544857,
     "end_time": "2022-07-28T13:00:25.145439",
     "exception": false,
     "start_time": "2022-07-28T13:00:24.600582",
     "status": "completed"
    },
    "tags": []
   },
   "outputs": [
    {
     "data": {
      "text/plain": [
       "<AxesSubplot:xlabel='num_subscribers', ylabel='num_reviews'>"
      ]
     },
     "execution_count": 20,
     "metadata": {},
     "output_type": "execute_result"
    },
    {
     "data": {
      "image/png": "[encoded data removed]",
      "text/plain": [
       "<Figure size 864x576 with 1 Axes>"
      ]
     },
     "metadata": {
      "needs_background": "light"
     },
     "output_type": "display_data"
    }
   ],
   "source": [
    "# num of subscribers vs num of reviews \n",
    "plt.figure(figsize=(12,8))\n",
    "sns.regplot(x=\"num_subscribers\" , y=\"num_reviews\" , data=df)"
   ]
  },
  {
   "cell_type": "markdown",
   "id": "c4087346",
   "metadata": {
    "papermill": {
     "duration": 0.016302,
     "end_time": "2022-07-28T13:00:25.178922",
     "exception": false,
     "start_time": "2022-07-28T13:00:25.162620",
     "status": "completed"
    },
    "tags": []
   },
   "source": [
    "#### Result ---> More Subscribers leads to more reviews"
   ]
  },
  {
   "cell_type": "markdown",
   "id": "7bda0181",
   "metadata": {
    "papermill": {
     "duration": 0.016086,
     "end_time": "2022-07-28T13:00:25.211164",
     "exception": false,
     "start_time": "2022-07-28T13:00:25.195078",
     "status": "completed"
    },
    "tags": []
   },
   "source": [
    "---\n",
    "## Insights : \n",
    "    - Most Of The Courses Is Paid\n",
    "    - Most Of The Courses are All Levels , Need More From Expert Level\n",
    "    - Most Of Students care about Buisiness Finance & Web Development\n",
    "    - Course Price Does Not Affect Subscripers\n",
    "    - Price Does Not Affect Reviews\n",
    "    - Price Does Not Affect Course Duration\n",
    "    - probaly course time affect course subscribers\n",
    "    - More Subscribers leads to more reviews"
   ]
  }
 ],
 "metadata": {
  "kernelspec": {
   "display_name": "Python 3",
   "language": "python",
   "name": "python3"
  },
  "language_info": {
   "codemirror_mode": {
    "name": "ipython",
    "version": 3
   },
   "file_extension": ".py",
   "mimetype": "text/x-python",
   "name": "python",
   "nbconvert_exporter": "python",
   "pygments_lexer": "ipython3",
   "version": "3.7.12"
  },
  "papermill": {
   "default_parameters": {},
   "duration": 17.875683,
   "end_time": "2022-07-28T13:00:26.049267",
   "environment_variables": {},
   "exception": null,
   "input_path": "__notebook__.ipynb",
   "output_path": "__notebook__.ipynb",
   "parameters": {},
   "start_time": "2022-07-28T13:00:08.173584",
   "version": "2.3.4"
  }
 },
 "nbformat": 4,
 "nbformat_minor": 5
}
